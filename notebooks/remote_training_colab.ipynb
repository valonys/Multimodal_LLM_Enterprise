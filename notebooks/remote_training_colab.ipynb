# colab_inspection_training.ipynb
# ---
# Runtime: GPU (T4, L4, or A100)
# This notebook is auto-parameterized from the Streamlit UI

import os
from urllib.parse import parse_qs, urlparse
from datasets import load_dataset
from transformers import AutoTokenizer, AutoModelForSequenceClassification, TrainingArguments, Trainer
import torch

# Parse query parameters
colab_url = "https://colab.research.google.com" + os.environ.get("COLAB_URL_SUFFIX", "")
query_params = parse_qs(urlparse(colab_url).query)

dataset_name = query_params.get('dataset', ['amiguel/inspKPI'])[0]
model_choice = query_params.get('model', ['bert-base-cased'])[0]
learning_rate = float(query_params.get('lr', [2e-5])[0])
batch_size = int(query_params.get('batch_size', [8])[0])
epochs = int(query_params.get('epochs', [3])[0])

print(f"Dataset: {dataset_name}")
print(f"Model: {model_choice}")
print(f"LR: {learning_rate}, Batch: {batch_size}, Epochs: {epochs}")

# Load dataset
dataset = load_dataset(dataset_name)
df = dataset['train'].to_pandas()
text_column = df.select_dtypes(include='object').columns[0]
label_column = df.select_dtypes(include=['int', 'object']).columns[-1]

# Prepare tokenizer and model
tokenizer = AutoTokenizer.from_pretrained(model_choice)
model = AutoModelForSequenceClassification.from_pretrained(model_choice, num_labels=len(df[label_column].unique()))

from datasets import Dataset
hf_dataset = Dataset.from_pandas(df[[text_column, label_column]].rename(columns={text_column: "text", label_column: "label"}))
tokenized = hf_dataset.map(lambda e: tokenizer(e['text'], padding=True, truncation=True), batched=True)

# Training
args = TrainingArguments(
    output_dir="./trained_output",
    learning_rate=learning_rate,
    per_device_train_batch_size=batch_size,
    num_train_epochs=epochs,
    logging_dir="./logs",
    save_strategy="epoch"
)

trainer = Trainer(model=model, args=args, train_dataset=tokenized)
trainer.train()

# Save to GDrive or push to hub optionally
model.save_pretrained("./trained_output")
tokenizer.save_pretrained("./trained_output")
print("✅ Training complete.")